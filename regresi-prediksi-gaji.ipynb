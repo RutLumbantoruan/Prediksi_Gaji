{
 "cells": [
  {
   "cell_type": "code",
   "execution_count": 34,
   "id": "42b0d53a",
   "metadata": {},
   "outputs": [],
   "source": [
    "import pandas as pd\n",
    "import numpy as np\n",
    "import matplotlib.pyplot as plt\n",
    "import pickle\n",
    "from sklearn.preprocessing import LabelEncoder\n",
    "from sklearn.linear_model import LinearRegression\n",
    "from sklearn.metrics import mean_squared_error, mean_absolute_error\n",
    "from sklearn.model_selection import train_test_split\n",
    "%matplotlib inline\n",
    "\n",
    "df = pd.read_csv(\"Salaries.csv\")"
   ]
  },
  {
   "cell_type": "code",
   "execution_count": 35,
   "id": "c349a83e",
   "metadata": {},
   "outputs": [
    {
     "data": {
      "text/html": [
       "<div>\n",
       "<style scoped>\n",
       "    .dataframe tbody tr th:only-of-type {\n",
       "        vertical-align: middle;\n",
       "    }\n",
       "\n",
       "    .dataframe tbody tr th {\n",
       "        vertical-align: top;\n",
       "    }\n",
       "\n",
       "    .dataframe thead th {\n",
       "        text-align: right;\n",
       "    }\n",
       "</style>\n",
       "<table border=\"1\" class=\"dataframe\">\n",
       "  <thead>\n",
       "    <tr style=\"text-align: right;\">\n",
       "      <th></th>\n",
       "      <th>Role</th>\n",
       "      <th>Company</th>\n",
       "      <th>Category</th>\n",
       "      <th>Years' Experience</th>\n",
       "      <th>City</th>\n",
       "      <th>Country</th>\n",
       "      <th>Gender</th>\n",
       "      <th>Currency</th>\n",
       "      <th>Salary</th>\n",
       "      <th>Mode</th>\n",
       "      <th>Period</th>\n",
       "      <th>Non-cash Compensation</th>\n",
       "      <th>Verified Salary Slip</th>\n",
       "    </tr>\n",
       "  </thead>\n",
       "  <tbody>\n",
       "    <tr>\n",
       "      <th>0</th>\n",
       "      <td>Tester</td>\n",
       "      <td>Purchase to unlock 👆</td>\n",
       "      <td>Other / Unknown</td>\n",
       "      <td>3</td>\n",
       "      <td>Bandung</td>\n",
       "      <td>ID</td>\n",
       "      <td>Male</td>\n",
       "      <td>IDR</td>\n",
       "      <td>30000000</td>\n",
       "      <td>Net</td>\n",
       "      <td>Monthly</td>\n",
       "      <td>RSU so stonks.</td>\n",
       "      <td>Verified</td>\n",
       "    </tr>\n",
       "    <tr>\n",
       "      <th>1</th>\n",
       "      <td>Software Engineer</td>\n",
       "      <td>Purchase to unlock 👆</td>\n",
       "      <td>Other / Unknown</td>\n",
       "      <td>12</td>\n",
       "      <td>Banten</td>\n",
       "      <td>ID</td>\n",
       "      <td>Male</td>\n",
       "      <td>IDR</td>\n",
       "      <td>54000000</td>\n",
       "      <td>Gross</td>\n",
       "      <td>Monthly</td>\n",
       "      <td>*Vacation allowance = 1 month salary *Full med...</td>\n",
       "      <td>NaN</td>\n",
       "    </tr>\n",
       "    <tr>\n",
       "      <th>2</th>\n",
       "      <td>Backend Engineer</td>\n",
       "      <td>Purchase to unlock 👆</td>\n",
       "      <td>Other / Unknown</td>\n",
       "      <td>5</td>\n",
       "      <td>Jakarta</td>\n",
       "      <td>ID</td>\n",
       "      <td>Male</td>\n",
       "      <td>IDR</td>\n",
       "      <td>16500000</td>\n",
       "      <td>Gross</td>\n",
       "      <td>Monthly</td>\n",
       "      <td>NaN</td>\n",
       "      <td>NaN</td>\n",
       "    </tr>\n",
       "    <tr>\n",
       "      <th>3</th>\n",
       "      <td>Android Developer</td>\n",
       "      <td>Purchase to unlock 👆</td>\n",
       "      <td>Other / Unknown</td>\n",
       "      <td>5</td>\n",
       "      <td>Jakarta</td>\n",
       "      <td>ID</td>\n",
       "      <td>Male</td>\n",
       "      <td>IDR</td>\n",
       "      <td>23500000</td>\n",
       "      <td>Gross</td>\n",
       "      <td>Monthly</td>\n",
       "      <td>Insurance, work from home.</td>\n",
       "      <td>NaN</td>\n",
       "    </tr>\n",
       "    <tr>\n",
       "      <th>4</th>\n",
       "      <td>Data Scientist</td>\n",
       "      <td>Purchase to unlock 👆</td>\n",
       "      <td>Other / Unknown</td>\n",
       "      <td>6</td>\n",
       "      <td>Jakarta</td>\n",
       "      <td>ID</td>\n",
       "      <td>Male</td>\n",
       "      <td>IDR</td>\n",
       "      <td>14600000</td>\n",
       "      <td>Net</td>\n",
       "      <td>Monthly</td>\n",
       "      <td>NaN</td>\n",
       "      <td>NaN</td>\n",
       "    </tr>\n",
       "  </tbody>\n",
       "</table>\n",
       "</div>"
      ],
      "text/plain": [
       "                Role               Company         Category  \\\n",
       "0             Tester  Purchase to unlock 👆  Other / Unknown   \n",
       "1  Software Engineer  Purchase to unlock 👆  Other / Unknown   \n",
       "2   Backend Engineer  Purchase to unlock 👆  Other / Unknown   \n",
       "3  Android Developer  Purchase to unlock 👆  Other / Unknown   \n",
       "4     Data Scientist  Purchase to unlock 👆  Other / Unknown   \n",
       "\n",
       "   Years' Experience     City Country Gender Currency    Salary   Mode  \\\n",
       "0                  3  Bandung      ID   Male      IDR  30000000    Net   \n",
       "1                 12   Banten      ID   Male      IDR  54000000  Gross   \n",
       "2                  5  Jakarta      ID   Male      IDR  16500000  Gross   \n",
       "3                  5  Jakarta      ID   Male      IDR  23500000  Gross   \n",
       "4                  6  Jakarta      ID   Male      IDR  14600000    Net   \n",
       "\n",
       "    Period                              Non-cash Compensation  \\\n",
       "0  Monthly                                     RSU so stonks.   \n",
       "1  Monthly  *Vacation allowance = 1 month salary *Full med...   \n",
       "2  Monthly                                                NaN   \n",
       "3  Monthly                         Insurance, work from home.   \n",
       "4  Monthly                                                NaN   \n",
       "\n",
       "  Verified Salary Slip  \n",
       "0             Verified  \n",
       "1                  NaN  \n",
       "2                  NaN  \n",
       "3                  NaN  \n",
       "4                  NaN  "
      ]
     },
     "execution_count": 35,
     "metadata": {},
     "output_type": "execute_result"
    }
   ],
   "source": [
    "df.head()"
   ]
  },
  {
   "cell_type": "markdown",
   "id": "6e3ab1d7",
   "metadata": {},
   "source": [
    "### Data Cleaning"
   ]
  },
  {
   "cell_type": "code",
   "execution_count": 36,
   "id": "c0d37be5",
   "metadata": {},
   "outputs": [
    {
     "name": "stdout",
     "output_type": "stream",
     "text": [
      "<class 'pandas.core.frame.DataFrame'>\n",
      "RangeIndex: 660 entries, 0 to 659\n",
      "Data columns (total 13 columns):\n",
      " #   Column                 Non-Null Count  Dtype \n",
      "---  ------                 --------------  ----- \n",
      " 0   Role                   660 non-null    object\n",
      " 1   Company                660 non-null    object\n",
      " 2   Category               660 non-null    object\n",
      " 3   Years' Experience      660 non-null    int64 \n",
      " 4   City                   660 non-null    object\n",
      " 5   Country                660 non-null    object\n",
      " 6   Gender                 660 non-null    object\n",
      " 7   Currency               660 non-null    object\n",
      " 8   Salary                 660 non-null    int64 \n",
      " 9   Mode                   660 non-null    object\n",
      " 10  Period                 660 non-null    object\n",
      " 11  Non-cash Compensation  226 non-null    object\n",
      " 12  Verified Salary Slip   56 non-null     object\n",
      "dtypes: int64(2), object(11)\n",
      "memory usage: 67.2+ KB\n"
     ]
    }
   ],
   "source": [
    "df.info()"
   ]
  },
  {
   "cell_type": "code",
   "execution_count": 37,
   "id": "b391967d",
   "metadata": {},
   "outputs": [
    {
     "name": "stdout",
     "output_type": "stream",
     "text": [
      "Non-cash Compensation => 434\n",
      "Verified Salary Slip => 604\n"
     ]
    }
   ],
   "source": [
    "def missing_cols(df):\n",
    "    '''prints out columns with its amount of missing values'''\n",
    "    total = 0\n",
    "    for col in df.columns:\n",
    "        missing_vals = df[col].isnull().sum()\n",
    "        total += missing_vals\n",
    "        if missing_vals != 0:\n",
    "            print(f\"{col} => {df[col].isnull().sum()}\")\n",
    "    \n",
    "    if total == 0:\n",
    "        print(\"no missing values left\")\n",
    "            \n",
    "missing_cols(df)"
   ]
  },
  {
   "cell_type": "code",
   "execution_count": 38,
   "id": "9f7b05a5",
   "metadata": {},
   "outputs": [
    {
     "name": "stdout",
     "output_type": "stream",
     "text": [
      "Non-cash Compensation => 65.76%\n",
      "Verified Salary Slip => 91.52%\n"
     ]
    }
   ],
   "source": [
    "def perc_missing(df):\n",
    "    '''prints out columns with missing values with its %'''\n",
    "    for col in df.columns:\n",
    "        pct = df[col].isna().mean() * 100\n",
    "        if (pct != 0):\n",
    "            print('{} => {}%'.format(col, round(pct, 2)))\n",
    "    \n",
    "perc_missing(df)"
   ]
  },
  {
   "cell_type": "code",
   "execution_count": 39,
   "id": "bb3be2de",
   "metadata": {},
   "outputs": [
    {
     "data": {
      "text/html": [
       "<div>\n",
       "<style scoped>\n",
       "    .dataframe tbody tr th:only-of-type {\n",
       "        vertical-align: middle;\n",
       "    }\n",
       "\n",
       "    .dataframe tbody tr th {\n",
       "        vertical-align: top;\n",
       "    }\n",
       "\n",
       "    .dataframe thead th {\n",
       "        text-align: right;\n",
       "    }\n",
       "</style>\n",
       "<table border=\"1\" class=\"dataframe\">\n",
       "  <thead>\n",
       "    <tr style=\"text-align: right;\">\n",
       "      <th></th>\n",
       "      <th>Role</th>\n",
       "      <th>City</th>\n",
       "      <th>Years' Experience</th>\n",
       "      <th>Salary</th>\n",
       "    </tr>\n",
       "  </thead>\n",
       "  <tbody>\n",
       "    <tr>\n",
       "      <th>0</th>\n",
       "      <td>Tester</td>\n",
       "      <td>Bandung</td>\n",
       "      <td>3</td>\n",
       "      <td>30000000</td>\n",
       "    </tr>\n",
       "    <tr>\n",
       "      <th>1</th>\n",
       "      <td>Software Engineer</td>\n",
       "      <td>Banten</td>\n",
       "      <td>12</td>\n",
       "      <td>54000000</td>\n",
       "    </tr>\n",
       "    <tr>\n",
       "      <th>2</th>\n",
       "      <td>Backend Engineer</td>\n",
       "      <td>Jakarta</td>\n",
       "      <td>5</td>\n",
       "      <td>16500000</td>\n",
       "    </tr>\n",
       "    <tr>\n",
       "      <th>3</th>\n",
       "      <td>Android Developer</td>\n",
       "      <td>Jakarta</td>\n",
       "      <td>5</td>\n",
       "      <td>23500000</td>\n",
       "    </tr>\n",
       "    <tr>\n",
       "      <th>4</th>\n",
       "      <td>Data Scientist</td>\n",
       "      <td>Jakarta</td>\n",
       "      <td>6</td>\n",
       "      <td>14600000</td>\n",
       "    </tr>\n",
       "  </tbody>\n",
       "</table>\n",
       "</div>"
      ],
      "text/plain": [
       "                Role     City  Years' Experience    Salary\n",
       "0             Tester  Bandung                  3  30000000\n",
       "1  Software Engineer   Banten                 12  54000000\n",
       "2   Backend Engineer  Jakarta                  5  16500000\n",
       "3  Android Developer  Jakarta                  5  23500000\n",
       "4     Data Scientist  Jakarta                  6  14600000"
      ]
     },
     "execution_count": 39,
     "metadata": {},
     "output_type": "execute_result"
    }
   ],
   "source": [
    "df = df[[\"Role\", \"City\", \"Years' Experience\", \"Salary\"]]\n",
    "df.head()"
   ]
  },
  {
   "cell_type": "code",
   "execution_count": 40,
   "id": "aa21c9ed",
   "metadata": {},
   "outputs": [
    {
     "name": "stdout",
     "output_type": "stream",
     "text": [
      "<class 'pandas.core.frame.DataFrame'>\n",
      "RangeIndex: 660 entries, 0 to 659\n",
      "Data columns (total 4 columns):\n",
      " #   Column             Non-Null Count  Dtype \n",
      "---  ------             --------------  ----- \n",
      " 0   Role               660 non-null    object\n",
      " 1   City               660 non-null    object\n",
      " 2   Years' Experience  660 non-null    int64 \n",
      " 3   Salary             660 non-null    int64 \n",
      "dtypes: int64(2), object(2)\n",
      "memory usage: 20.8+ KB\n"
     ]
    }
   ],
   "source": [
    "df.info()"
   ]
  },
  {
   "cell_type": "code",
   "execution_count": 41,
   "id": "9da81815",
   "metadata": {},
   "outputs": [
    {
     "data": {
      "text/plain": [
       "False"
      ]
     },
     "execution_count": 41,
     "metadata": {},
     "output_type": "execute_result"
    }
   ],
   "source": [
    "df.isnull().values.any()"
   ]
  },
  {
   "cell_type": "code",
   "execution_count": 42,
   "id": "0c8f40ae",
   "metadata": {},
   "outputs": [
    {
     "data": {
      "text/plain": [
       "Software Engineer       118\n",
       "Project Manager         107\n",
       "Backend Engineer         70\n",
       "Android Developer        64\n",
       "Data Analyst             52\n",
       "Frontend Engineer        42\n",
       "UX Writer                38\n",
       "Quality Assurance        35\n",
       "UI Designer              28\n",
       "IT Support               25\n",
       "Data Engineer            25\n",
       "Fullstack Developer      22\n",
       "Tester                   16\n",
       "Data Scientist           12\n",
       "Fullstack Developer       5\n",
       "tester                    1\n",
       "Name: Role, dtype: int64"
      ]
     },
     "execution_count": 42,
     "metadata": {},
     "output_type": "execute_result"
    }
   ],
   "source": [
    "df['Role'].value_counts()"
   ]
  },
  {
   "cell_type": "code",
   "execution_count": 44,
   "id": "f1f1460a",
   "metadata": {},
   "outputs": [
    {
     "data": {
      "text/plain": [
       "Software Engineer       118\n",
       "Project Manager         107\n",
       "Backend Engineer         70\n",
       "Android Developer        64\n",
       "Data Analyst             52\n",
       "Frontend Engineer        42\n",
       "UX Writer                38\n",
       "Quality Assurance        35\n",
       "UI Designer              28\n",
       "IT Support               25\n",
       "Data Engineer            25\n",
       "Fullstack Developer      22\n",
       "Tester                   15\n",
       "Data Scientist           12\n",
       "Fullstack Developer       5\n",
       "tester                    2\n",
       "Name: Role, dtype: int64"
      ]
     },
     "execution_count": 44,
     "metadata": {},
     "output_type": "execute_result"
    }
   ],
   "source": [
    "random_index = df.sample(1, random_state = 10).index\n",
    "\n",
    "wrong_spelling = ['tester']\n",
    "\n",
    "# replace them with the wrong spelling\n",
    "df.loc[random_index,'Role'] = wrong_spelling\n",
    "df['Role'].value_counts()"
   ]
  },
  {
   "cell_type": "code",
   "execution_count": 47,
   "id": "269639bf",
   "metadata": {},
   "outputs": [
    {
     "data": {
      "text/plain": [
       "Software Engineer       118\n",
       "Project Manager         107\n",
       "Backend Engineer         70\n",
       "Android Developer        64\n",
       "Data Analyst             52\n",
       "Frontend Engineer        42\n",
       "UX Writer                38\n",
       "Quality Assurance        35\n",
       "UI Designer              28\n",
       "IT Support               25\n",
       "Data Engineer            25\n",
       "Fullstack Developer      22\n",
       "Tester                   17\n",
       "Data Scientist           12\n",
       "Fullstack Developer       5\n",
       "Name: Role, dtype: int64"
      ]
     },
     "execution_count": 47,
     "metadata": {},
     "output_type": "execute_result"
    }
   ],
   "source": [
    "df['Role'].replace(['tester'],\n",
    "                             ['Tester'], inplace=True)\n",
    "df['Role'].value_counts()"
   ]
  },
  {
   "cell_type": "code",
   "execution_count": 49,
   "id": "d8adcd40",
   "metadata": {},
   "outputs": [
    {
     "data": {
      "text/plain": [
       "Jakarta       426\n",
       "Yogyakarta     41\n",
       "Surabaya       36\n",
       "Bandung        35\n",
       "Tangerang      28\n",
       "Banten         26\n",
       "Semarang       22\n",
       "Bekasi         20\n",
       "Depok          15\n",
       "Bogor          11\n",
       "Name: City, dtype: int64"
      ]
     },
     "execution_count": 49,
     "metadata": {},
     "output_type": "execute_result"
    }
   ],
   "source": [
    "df['City'].value_counts()"
   ]
  },
  {
   "cell_type": "code",
   "execution_count": 50,
   "id": "06530578",
   "metadata": {},
   "outputs": [
    {
     "data": {
      "image/png": "[encoded data removed]",
      "text/plain": [
       "<Figure size 1200x700 with 1 Axes>"
      ]
     },
     "metadata": {},
     "output_type": "display_data"
    }
   ],
   "source": [
    "fig, ax = plt.subplots(1,1, figsize=(12, 7))\n",
    "df.boxplot('Salary', 'City', ax=ax)\n",
    "plt.suptitle('Salary (IDR) v City')\n",
    "plt.title('')\n",
    "plt.ylabel('Salary')\n",
    "plt.xticks(rotation=90)\n",
    "plt.show()"
   ]
  },
  {
   "cell_type": "code",
   "execution_count": 51,
   "id": "1e0a10b7",
   "metadata": {},
   "outputs": [],
   "source": [
    "df = df[df[\"Salary\"] <= 60000000]\n",
    "df = df[df[\"Salary\"] >= 330000]"
   ]
  },
  {
   "cell_type": "code",
   "execution_count": 52,
   "id": "5521ea41",
   "metadata": {},
   "outputs": [
    {
     "data": {
      "image/png": "[encoded data removed]",
      "text/plain": [
       "<Figure size 1000x700 with 1 Axes>"
      ]
     },
     "metadata": {},
     "output_type": "display_data"
    }
   ],
   "source": [
    "fig, ax = plt.subplots(1,1, figsize=(10, 7))\n",
    "df.boxplot('Salary', 'City', ax=ax)\n",
    "plt.suptitle('Salary (IDR) v City')\n",
    "plt.title('')\n",
    "plt.ylabel('Salary')\n",
    "plt.xticks(rotation=90)\n",
    "plt.show()"
   ]
  },
  {
   "cell_type": "code",
   "execution_count": 53,
   "id": "dce3206d",
   "metadata": {},
   "outputs": [
    {
     "data": {
      "text/plain": [
       "array([ 3, 12,  5,  6, 10,  2,  1,  0,  4,  8, 13,  7, 11,  9, 18, 17, 15,\n",
       "       20], dtype=int64)"
      ]
     },
     "execution_count": 53,
     "metadata": {},
     "output_type": "execute_result"
    }
   ],
   "source": [
    "df[\"Years' Experience\"].unique()"
   ]
  },
  {
   "cell_type": "code",
   "execution_count": 54,
   "id": "20a166c5",
   "metadata": {},
   "outputs": [
    {
     "data": {
      "text/plain": [
       "array([12, 11,  1,  0,  4,  5,  9,  6, 14,  2, 13,  8,  3, 10,  7])"
      ]
     },
     "execution_count": 54,
     "metadata": {},
     "output_type": "execute_result"
    }
   ],
   "source": [
    "role_label = LabelEncoder()\n",
    "df['Role'] = role_label.fit_transform(df['Role'])\n",
    "df[\"Role\"].unique()"
   ]
  },
  {
   "cell_type": "code",
   "execution_count": 55,
   "id": "c27d73c7",
   "metadata": {},
   "outputs": [
    {
     "data": {
      "text/plain": [
       "array([0, 1, 5, 8, 3, 2, 7, 9, 6, 4])"
      ]
     },
     "execution_count": 55,
     "metadata": {},
     "output_type": "execute_result"
    }
   ],
   "source": [
    "city_label = LabelEncoder()\n",
    "df['City'] = city_label.fit_transform(df['City'])\n",
    "df[\"City\"].unique()"
   ]
  },
  {
   "cell_type": "code",
   "execution_count": 56,
   "id": "bc66aa62",
   "metadata": {},
   "outputs": [],
   "source": [
    "X = df.drop(\"Salary\", axis=1)\n",
    "y = df[\"Salary\"]"
   ]
  },
  {
   "cell_type": "code",
   "execution_count": 57,
   "id": "dc65e8e3",
   "metadata": {},
   "outputs": [
    {
     "data": {
      "text/html": [
       "<div>\n",
       "<style scoped>\n",
       "    .dataframe tbody tr th:only-of-type {\n",
       "        vertical-align: middle;\n",
       "    }\n",
       "\n",
       "    .dataframe tbody tr th {\n",
       "        vertical-align: top;\n",
       "    }\n",
       "\n",
       "    .dataframe thead th {\n",
       "        text-align: right;\n",
       "    }\n",
       "</style>\n",
       "<table border=\"1\" class=\"dataframe\">\n",
       "  <thead>\n",
       "    <tr style=\"text-align: right;\">\n",
       "      <th></th>\n",
       "      <th>Role</th>\n",
       "      <th>City</th>\n",
       "      <th>Years' Experience</th>\n",
       "    </tr>\n",
       "  </thead>\n",
       "  <tbody>\n",
       "    <tr>\n",
       "      <th>636</th>\n",
       "      <td>0</td>\n",
       "      <td>5</td>\n",
       "      <td>0</td>\n",
       "    </tr>\n",
       "    <tr>\n",
       "      <th>100</th>\n",
       "      <td>9</td>\n",
       "      <td>5</td>\n",
       "      <td>3</td>\n",
       "    </tr>\n",
       "    <tr>\n",
       "      <th>117</th>\n",
       "      <td>2</td>\n",
       "      <td>5</td>\n",
       "      <td>1</td>\n",
       "    </tr>\n",
       "    <tr>\n",
       "      <th>68</th>\n",
       "      <td>8</td>\n",
       "      <td>5</td>\n",
       "      <td>5</td>\n",
       "    </tr>\n",
       "    <tr>\n",
       "      <th>637</th>\n",
       "      <td>11</td>\n",
       "      <td>5</td>\n",
       "      <td>1</td>\n",
       "    </tr>\n",
       "    <tr>\n",
       "      <th>...</th>\n",
       "      <td>...</td>\n",
       "      <td>...</td>\n",
       "      <td>...</td>\n",
       "    </tr>\n",
       "    <tr>\n",
       "      <th>226</th>\n",
       "      <td>0</td>\n",
       "      <td>5</td>\n",
       "      <td>2</td>\n",
       "    </tr>\n",
       "    <tr>\n",
       "      <th>644</th>\n",
       "      <td>6</td>\n",
       "      <td>7</td>\n",
       "      <td>3</td>\n",
       "    </tr>\n",
       "    <tr>\n",
       "      <th>441</th>\n",
       "      <td>9</td>\n",
       "      <td>7</td>\n",
       "      <td>1</td>\n",
       "    </tr>\n",
       "    <tr>\n",
       "      <th>202</th>\n",
       "      <td>12</td>\n",
       "      <td>2</td>\n",
       "      <td>0</td>\n",
       "    </tr>\n",
       "    <tr>\n",
       "      <th>182</th>\n",
       "      <td>2</td>\n",
       "      <td>5</td>\n",
       "      <td>0</td>\n",
       "    </tr>\n",
       "  </tbody>\n",
       "</table>\n",
       "<p>523 rows × 3 columns</p>\n",
       "</div>"
      ],
      "text/plain": [
       "     Role  City  Years' Experience\n",
       "636     0     5                  0\n",
       "100     9     5                  3\n",
       "117     2     5                  1\n",
       "68      8     5                  5\n",
       "637    11     5                  1\n",
       "..    ...   ...                ...\n",
       "226     0     5                  2\n",
       "644     6     7                  3\n",
       "441     9     7                  1\n",
       "202    12     2                  0\n",
       "182     2     5                  0\n",
       "\n",
       "[523 rows x 3 columns]"
      ]
     },
     "execution_count": 57,
     "metadata": {},
     "output_type": "execute_result"
    }
   ],
   "source": [
    "X_train, X_test, y_train, y_test = train_test_split(X, y, test_size=0.2)\n",
    "X_train"
   ]
  },
  {
   "cell_type": "code",
   "execution_count": 58,
   "id": "b7197a61",
   "metadata": {},
   "outputs": [
    {
     "data": {
      "text/html": [
       "<style>#sk-container-id-1 {color: black;background-color: white;}#sk-container-id-1 pre{padding: 0;}#sk-container-id-1 div.sk-toggleable {background-color: white;}#sk-container-id-1 label.sk-toggleable__label {cursor: pointer;display: block;width: 100%;margin-bottom: 0;padding: 0.3em;box-sizing: border-box;text-align: center;}#sk-container-id-1 label.sk-toggleable__label-arrow:before {content: \"▸\";float: left;margin-right: 0.25em;color: #696969;}#sk-container-id-1 label.sk-toggleable__label-arrow:hover:before {color: black;}#sk-container-id-1 div.sk-estimator:hover label.sk-toggleable__label-arrow:before {color: black;}#sk-container-id-1 div.sk-toggleable__content {max-height: 0;max-width: 0;overflow: hidden;text-align: left;background-color: #f0f8ff;}#sk-container-id-1 div.sk-toggleable__content pre {margin: 0.2em;color: black;border-radius: 0.25em;background-color: #f0f8ff;}#sk-container-id-1 input.sk-toggleable__control:checked~div.sk-toggleable__content {max-height: 200px;max-width: 100%;overflow: auto;}#sk-container-id-1 input.sk-toggleable__control:checked~label.sk-toggleable__label-arrow:before {content: \"▾\";}#sk-container-id-1 div.sk-estimator input.sk-toggleable__control:checked~label.sk-toggleable__label {background-color: #d4ebff;}#sk-container-id-1 div.sk-label input.sk-toggleable__control:checked~label.sk-toggleable__label {background-color: #d4ebff;}#sk-container-id-1 input.sk-hidden--visually {border: 0;clip: rect(1px 1px 1px 1px);clip: rect(1px, 1px, 1px, 1px);height: 1px;margin: -1px;overflow: hidden;padding: 0;position: absolute;width: 1px;}#sk-container-id-1 div.sk-estimator {font-family: monospace;background-color: #f0f8ff;border: 1px dotted black;border-radius: 0.25em;box-sizing: border-box;margin-bottom: 0.5em;}#sk-container-id-1 div.sk-estimator:hover {background-color: #d4ebff;}#sk-container-id-1 div.sk-parallel-item::after {content: \"\";width: 100%;border-bottom: 1px solid gray;flex-grow: 1;}#sk-container-id-1 div.sk-label:hover label.sk-toggleable__label {background-color: #d4ebff;}#sk-container-id-1 div.sk-serial::before {content: \"\";position: absolute;border-left: 1px solid gray;box-sizing: border-box;top: 0;bottom: 0;left: 50%;z-index: 0;}#sk-container-id-1 div.sk-serial {display: flex;flex-direction: column;align-items: center;background-color: white;padding-right: 0.2em;padding-left: 0.2em;position: relative;}#sk-container-id-1 div.sk-item {position: relative;z-index: 1;}#sk-container-id-1 div.sk-parallel {display: flex;align-items: stretch;justify-content: center;background-color: white;position: relative;}#sk-container-id-1 div.sk-item::before, #sk-container-id-1 div.sk-parallel-item::before {content: \"\";position: absolute;border-left: 1px solid gray;box-sizing: border-box;top: 0;bottom: 0;left: 50%;z-index: -1;}#sk-container-id-1 div.sk-parallel-item {display: flex;flex-direction: column;z-index: 1;position: relative;background-color: white;}#sk-container-id-1 div.sk-parallel-item:first-child::after {align-self: flex-end;width: 50%;}#sk-container-id-1 div.sk-parallel-item:last-child::after {align-self: flex-start;width: 50%;}#sk-container-id-1 div.sk-parallel-item:only-child::after {width: 0;}#sk-container-id-1 div.sk-dashed-wrapped {border: 1px dashed gray;margin: 0 0.4em 0.5em 0.4em;box-sizing: border-box;padding-bottom: 0.4em;background-color: white;}#sk-container-id-1 div.sk-label label {font-family: monospace;font-weight: bold;display: inline-block;line-height: 1.2em;}#sk-container-id-1 div.sk-label-container {text-align: center;}#sk-container-id-1 div.sk-container {/* jupyter's `normalize.less` sets `[hidden] { display: none; }` but bootstrap.min.css set `[hidden] { display: none !important; }` so we also need the `!important` here to be able to override the default hidden behavior on the sphinx rendered scikit-learn.org. See: https://github.com/scikit-learn/scikit-learn/issues/21755 */display: inline-block !important;position: relative;}#sk-container-id-1 div.sk-text-repr-fallback {display: none;}</style><div id=\"sk-container-id-1\" class=\"sk-top-container\"><div class=\"sk-text-repr-fallback\"><pre>LinearRegression()</pre><b>In a Jupyter environment, please rerun this cell to show the HTML representation or trust the notebook. <br />On GitHub, the HTML representation is unable to render, please try loading this page with nbviewer.org.</b></div><div class=\"sk-container\" hidden><div class=\"sk-item\"><div class=\"sk-estimator sk-toggleable\"><input class=\"sk-toggleable__control sk-hidden--visually\" id=\"sk-estimator-id-1\" type=\"checkbox\" checked><label for=\"sk-estimator-id-1\" class=\"sk-toggleable__label sk-toggleable__label-arrow\">LinearRegression</label><div class=\"sk-toggleable__content\"><pre>LinearRegression()</pre></div></div></div></div></div>"
      ],
      "text/plain": [
       "LinearRegression()"
      ]
     },
     "execution_count": 58,
     "metadata": {},
     "output_type": "execute_result"
    }
   ],
   "source": [
    "# Linear Regression\n",
    "linear_reg = LinearRegression()\n",
    "linear_reg.fit(X_train, y_train)"
   ]
  },
  {
   "cell_type": "code",
   "execution_count": 59,
   "id": "437f1a95",
   "metadata": {},
   "outputs": [
    {
     "name": "stdout",
     "output_type": "stream",
     "text": [
      "[ 102173.59923495  126984.12822798 1706015.79086791]\n",
      "8189053.227000863\n"
     ]
    }
   ],
   "source": [
    "print(linear_reg.coef_)\n",
    "print(linear_reg.intercept_)"
   ]
  },
  {
   "cell_type": "code",
   "execution_count": 60,
   "id": "edd7213e",
   "metadata": {},
   "outputs": [
    {
     "data": {
      "text/plain": [
       "0.3415325997433084"
      ]
     },
     "execution_count": 60,
     "metadata": {},
     "output_type": "execute_result"
    }
   ],
   "source": [
    "linear_reg.score(X_test, y_test)"
   ]
  },
  {
   "cell_type": "code",
   "execution_count": 61,
   "id": "a82697a5",
   "metadata": {},
   "outputs": [],
   "source": [
    "y_pred = linear_reg.predict(X_test)"
   ]
  },
  {
   "cell_type": "code",
   "execution_count": 62,
   "id": "dd613961",
   "metadata": {},
   "outputs": [
    {
     "name": "stdout",
     "output_type": "stream",
     "text": [
      "Mean squared error: 7668433.11\n",
      "Mean absolute error: 6042913.03\n"
     ]
    }
   ],
   "source": [
    "print(\"Mean squared error: %.2f\" % np.sqrt(mean_squared_error(y_test, y_pred)))\n",
    "print(\"Mean absolute error: %.2f\" % np.mean(np.absolute(y_pred - y_test)))"
   ]
  },
  {
   "cell_type": "code",
   "execution_count": 63,
   "id": "75be5659",
   "metadata": {},
   "outputs": [
    {
     "data": {
      "text/html": [
       "<style>#sk-container-id-2 {color: black;background-color: white;}#sk-container-id-2 pre{padding: 0;}#sk-container-id-2 div.sk-toggleable {background-color: white;}#sk-container-id-2 label.sk-toggleable__label {cursor: pointer;display: block;width: 100%;margin-bottom: 0;padding: 0.3em;box-sizing: border-box;text-align: center;}#sk-container-id-2 label.sk-toggleable__label-arrow:before {content: \"▸\";float: left;margin-right: 0.25em;color: #696969;}#sk-container-id-2 label.sk-toggleable__label-arrow:hover:before {color: black;}#sk-container-id-2 div.sk-estimator:hover label.sk-toggleable__label-arrow:before {color: black;}#sk-container-id-2 div.sk-toggleable__content {max-height: 0;max-width: 0;overflow: hidden;text-align: left;background-color: #f0f8ff;}#sk-container-id-2 div.sk-toggleable__content pre {margin: 0.2em;color: black;border-radius: 0.25em;background-color: #f0f8ff;}#sk-container-id-2 input.sk-toggleable__control:checked~div.sk-toggleable__content {max-height: 200px;max-width: 100%;overflow: auto;}#sk-container-id-2 input.sk-toggleable__control:checked~label.sk-toggleable__label-arrow:before {content: \"▾\";}#sk-container-id-2 div.sk-estimator input.sk-toggleable__control:checked~label.sk-toggleable__label {background-color: #d4ebff;}#sk-container-id-2 div.sk-label input.sk-toggleable__control:checked~label.sk-toggleable__label {background-color: #d4ebff;}#sk-container-id-2 input.sk-hidden--visually {border: 0;clip: rect(1px 1px 1px 1px);clip: rect(1px, 1px, 1px, 1px);height: 1px;margin: -1px;overflow: hidden;padding: 0;position: absolute;width: 1px;}#sk-container-id-2 div.sk-estimator {font-family: monospace;background-color: #f0f8ff;border: 1px dotted black;border-radius: 0.25em;box-sizing: border-box;margin-bottom: 0.5em;}#sk-container-id-2 div.sk-estimator:hover {background-color: #d4ebff;}#sk-container-id-2 div.sk-parallel-item::after {content: \"\";width: 100%;border-bottom: 1px solid gray;flex-grow: 1;}#sk-container-id-2 div.sk-label:hover label.sk-toggleable__label {background-color: #d4ebff;}#sk-container-id-2 div.sk-serial::before {content: \"\";position: absolute;border-left: 1px solid gray;box-sizing: border-box;top: 0;bottom: 0;left: 50%;z-index: 0;}#sk-container-id-2 div.sk-serial {display: flex;flex-direction: column;align-items: center;background-color: white;padding-right: 0.2em;padding-left: 0.2em;position: relative;}#sk-container-id-2 div.sk-item {position: relative;z-index: 1;}#sk-container-id-2 div.sk-parallel {display: flex;align-items: stretch;justify-content: center;background-color: white;position: relative;}#sk-container-id-2 div.sk-item::before, #sk-container-id-2 div.sk-parallel-item::before {content: \"\";position: absolute;border-left: 1px solid gray;box-sizing: border-box;top: 0;bottom: 0;left: 50%;z-index: -1;}#sk-container-id-2 div.sk-parallel-item {display: flex;flex-direction: column;z-index: 1;position: relative;background-color: white;}#sk-container-id-2 div.sk-parallel-item:first-child::after {align-self: flex-end;width: 50%;}#sk-container-id-2 div.sk-parallel-item:last-child::after {align-self: flex-start;width: 50%;}#sk-container-id-2 div.sk-parallel-item:only-child::after {width: 0;}#sk-container-id-2 div.sk-dashed-wrapped {border: 1px dashed gray;margin: 0 0.4em 0.5em 0.4em;box-sizing: border-box;padding-bottom: 0.4em;background-color: white;}#sk-container-id-2 div.sk-label label {font-family: monospace;font-weight: bold;display: inline-block;line-height: 1.2em;}#sk-container-id-2 div.sk-label-container {text-align: center;}#sk-container-id-2 div.sk-container {/* jupyter's `normalize.less` sets `[hidden] { display: none; }` but bootstrap.min.css set `[hidden] { display: none !important; }` so we also need the `!important` here to be able to override the default hidden behavior on the sphinx rendered scikit-learn.org. See: https://github.com/scikit-learn/scikit-learn/issues/21755 */display: inline-block !important;position: relative;}#sk-container-id-2 div.sk-text-repr-fallback {display: none;}</style><div id=\"sk-container-id-2\" class=\"sk-top-container\"><div class=\"sk-text-repr-fallback\"><pre>DecisionTreeRegressor(random_state=0)</pre><b>In a Jupyter environment, please rerun this cell to show the HTML representation or trust the notebook. <br />On GitHub, the HTML representation is unable to render, please try loading this page with nbviewer.org.</b></div><div class=\"sk-container\" hidden><div class=\"sk-item\"><div class=\"sk-estimator sk-toggleable\"><input class=\"sk-toggleable__control sk-hidden--visually\" id=\"sk-estimator-id-2\" type=\"checkbox\" checked><label for=\"sk-estimator-id-2\" class=\"sk-toggleable__label sk-toggleable__label-arrow\">DecisionTreeRegressor</label><div class=\"sk-toggleable__content\"><pre>DecisionTreeRegressor(random_state=0)</pre></div></div></div></div></div>"
      ],
      "text/plain": [
       "DecisionTreeRegressor(random_state=0)"
      ]
     },
     "execution_count": 63,
     "metadata": {},
     "output_type": "execute_result"
    }
   ],
   "source": [
    "from sklearn.tree import DecisionTreeRegressor\n",
    "dec_tree_reg = DecisionTreeRegressor(random_state=0)\n",
    "dec_tree_reg.fit(X_train, y_train)"
   ]
  },
  {
   "cell_type": "code",
   "execution_count": 64,
   "id": "79d1bdf7",
   "metadata": {},
   "outputs": [],
   "source": [
    "y_pred = dec_tree_reg.predict(X_test)"
   ]
  },
  {
   "cell_type": "code",
   "execution_count": 65,
   "id": "93cc7a06",
   "metadata": {},
   "outputs": [
    {
     "name": "stdout",
     "output_type": "stream",
     "text": [
      "IDR9,702,859.73\n"
     ]
    }
   ],
   "source": [
    "error = np.sqrt(mean_squared_error(y_test, y_pred))\n",
    "print(\"IDR{:,.02f}\".format(error))"
   ]
  },
  {
   "cell_type": "code",
   "execution_count": 66,
   "id": "2a72edc0",
   "metadata": {},
   "outputs": [
    {
     "data": {
      "text/html": [
       "<style>#sk-container-id-3 {color: black;background-color: white;}#sk-container-id-3 pre{padding: 0;}#sk-container-id-3 div.sk-toggleable {background-color: white;}#sk-container-id-3 label.sk-toggleable__label {cursor: pointer;display: block;width: 100%;margin-bottom: 0;padding: 0.3em;box-sizing: border-box;text-align: center;}#sk-container-id-3 label.sk-toggleable__label-arrow:before {content: \"▸\";float: left;margin-right: 0.25em;color: #696969;}#sk-container-id-3 label.sk-toggleable__label-arrow:hover:before {color: black;}#sk-container-id-3 div.sk-estimator:hover label.sk-toggleable__label-arrow:before {color: black;}#sk-container-id-3 div.sk-toggleable__content {max-height: 0;max-width: 0;overflow: hidden;text-align: left;background-color: #f0f8ff;}#sk-container-id-3 div.sk-toggleable__content pre {margin: 0.2em;color: black;border-radius: 0.25em;background-color: #f0f8ff;}#sk-container-id-3 input.sk-toggleable__control:checked~div.sk-toggleable__content {max-height: 200px;max-width: 100%;overflow: auto;}#sk-container-id-3 input.sk-toggleable__control:checked~label.sk-toggleable__label-arrow:before {content: \"▾\";}#sk-container-id-3 div.sk-estimator input.sk-toggleable__control:checked~label.sk-toggleable__label {background-color: #d4ebff;}#sk-container-id-3 div.sk-label input.sk-toggleable__control:checked~label.sk-toggleable__label {background-color: #d4ebff;}#sk-container-id-3 input.sk-hidden--visually {border: 0;clip: rect(1px 1px 1px 1px);clip: rect(1px, 1px, 1px, 1px);height: 1px;margin: -1px;overflow: hidden;padding: 0;position: absolute;width: 1px;}#sk-container-id-3 div.sk-estimator {font-family: monospace;background-color: #f0f8ff;border: 1px dotted black;border-radius: 0.25em;box-sizing: border-box;margin-bottom: 0.5em;}#sk-container-id-3 div.sk-estimator:hover {background-color: #d4ebff;}#sk-container-id-3 div.sk-parallel-item::after {content: \"\";width: 100%;border-bottom: 1px solid gray;flex-grow: 1;}#sk-container-id-3 div.sk-label:hover label.sk-toggleable__label {background-color: #d4ebff;}#sk-container-id-3 div.sk-serial::before {content: \"\";position: absolute;border-left: 1px solid gray;box-sizing: border-box;top: 0;bottom: 0;left: 50%;z-index: 0;}#sk-container-id-3 div.sk-serial {display: flex;flex-direction: column;align-items: center;background-color: white;padding-right: 0.2em;padding-left: 0.2em;position: relative;}#sk-container-id-3 div.sk-item {position: relative;z-index: 1;}#sk-container-id-3 div.sk-parallel {display: flex;align-items: stretch;justify-content: center;background-color: white;position: relative;}#sk-container-id-3 div.sk-item::before, #sk-container-id-3 div.sk-parallel-item::before {content: \"\";position: absolute;border-left: 1px solid gray;box-sizing: border-box;top: 0;bottom: 0;left: 50%;z-index: -1;}#sk-container-id-3 div.sk-parallel-item {display: flex;flex-direction: column;z-index: 1;position: relative;background-color: white;}#sk-container-id-3 div.sk-parallel-item:first-child::after {align-self: flex-end;width: 50%;}#sk-container-id-3 div.sk-parallel-item:last-child::after {align-self: flex-start;width: 50%;}#sk-container-id-3 div.sk-parallel-item:only-child::after {width: 0;}#sk-container-id-3 div.sk-dashed-wrapped {border: 1px dashed gray;margin: 0 0.4em 0.5em 0.4em;box-sizing: border-box;padding-bottom: 0.4em;background-color: white;}#sk-container-id-3 div.sk-label label {font-family: monospace;font-weight: bold;display: inline-block;line-height: 1.2em;}#sk-container-id-3 div.sk-label-container {text-align: center;}#sk-container-id-3 div.sk-container {/* jupyter's `normalize.less` sets `[hidden] { display: none; }` but bootstrap.min.css set `[hidden] { display: none !important; }` so we also need the `!important` here to be able to override the default hidden behavior on the sphinx rendered scikit-learn.org. See: https://github.com/scikit-learn/scikit-learn/issues/21755 */display: inline-block !important;position: relative;}#sk-container-id-3 div.sk-text-repr-fallback {display: none;}</style><div id=\"sk-container-id-3\" class=\"sk-top-container\"><div class=\"sk-text-repr-fallback\"><pre>GridSearchCV(estimator=DecisionTreeRegressor(random_state=0),\n",
       "             param_grid={&#x27;max_depth&#x27;: [None, 2, 4, 6, 8, 10, 12]},\n",
       "             scoring=&#x27;neg_mean_squared_error&#x27;)</pre><b>In a Jupyter environment, please rerun this cell to show the HTML representation or trust the notebook. <br />On GitHub, the HTML representation is unable to render, please try loading this page with nbviewer.org.</b></div><div class=\"sk-container\" hidden><div class=\"sk-item sk-dashed-wrapped\"><div class=\"sk-label-container\"><div class=\"sk-label sk-toggleable\"><input class=\"sk-toggleable__control sk-hidden--visually\" id=\"sk-estimator-id-3\" type=\"checkbox\" ><label for=\"sk-estimator-id-3\" class=\"sk-toggleable__label sk-toggleable__label-arrow\">GridSearchCV</label><div class=\"sk-toggleable__content\"><pre>GridSearchCV(estimator=DecisionTreeRegressor(random_state=0),\n",
       "             param_grid={&#x27;max_depth&#x27;: [None, 2, 4, 6, 8, 10, 12]},\n",
       "             scoring=&#x27;neg_mean_squared_error&#x27;)</pre></div></div></div><div class=\"sk-parallel\"><div class=\"sk-parallel-item\"><div class=\"sk-item\"><div class=\"sk-label-container\"><div class=\"sk-label sk-toggleable\"><input class=\"sk-toggleable__control sk-hidden--visually\" id=\"sk-estimator-id-4\" type=\"checkbox\" ><label for=\"sk-estimator-id-4\" class=\"sk-toggleable__label sk-toggleable__label-arrow\">estimator: DecisionTreeRegressor</label><div class=\"sk-toggleable__content\"><pre>DecisionTreeRegressor(random_state=0)</pre></div></div></div><div class=\"sk-serial\"><div class=\"sk-item\"><div class=\"sk-estimator sk-toggleable\"><input class=\"sk-toggleable__control sk-hidden--visually\" id=\"sk-estimator-id-5\" type=\"checkbox\" ><label for=\"sk-estimator-id-5\" class=\"sk-toggleable__label sk-toggleable__label-arrow\">DecisionTreeRegressor</label><div class=\"sk-toggleable__content\"><pre>DecisionTreeRegressor(random_state=0)</pre></div></div></div></div></div></div></div></div></div></div>"
      ],
      "text/plain": [
       "GridSearchCV(estimator=DecisionTreeRegressor(random_state=0),\n",
       "             param_grid={'max_depth': [None, 2, 4, 6, 8, 10, 12]},\n",
       "             scoring='neg_mean_squared_error')"
      ]
     },
     "execution_count": 66,
     "metadata": {},
     "output_type": "execute_result"
    }
   ],
   "source": [
    "from sklearn.model_selection import GridSearchCV\n",
    "\n",
    "max_depth = [None, 2,4,6,8,10,12]\n",
    "parameters = {\"max_depth\": max_depth}\n",
    "\n",
    "regressor = DecisionTreeRegressor(random_state=0)\n",
    "gs = GridSearchCV(regressor, parameters, scoring='neg_mean_squared_error')\n",
    "gs.fit(X_train, y_train)"
   ]
  },
  {
   "cell_type": "code",
   "execution_count": 67,
   "id": "430d8793",
   "metadata": {},
   "outputs": [
    {
     "name": "stdout",
     "output_type": "stream",
     "text": [
      "IDR7,728,923.88\n"
     ]
    }
   ],
   "source": [
    "regressor = gs.best_estimator_\n",
    "\n",
    "regressor.fit(X_train, y_train)\n",
    "y_pred = regressor.predict(X_test)\n",
    "error = np.sqrt(mean_squared_error(y_test, y_pred))\n",
    "print(\"IDR{:,.02f}\".format(error))"
   ]
  },
  {
   "cell_type": "code",
   "execution_count": 68,
   "id": "b8ee3607",
   "metadata": {},
   "outputs": [
    {
     "data": {
      "text/plain": [
       "array([['Bandung', 'Tester', '3']], dtype='<U11')"
      ]
     },
     "execution_count": 68,
     "metadata": {},
     "output_type": "execute_result"
    }
   ],
   "source": [
    "X = np.array([[\"Bandung\", 'Tester', 3 ]])\n",
    "X"
   ]
  },
  {
   "cell_type": "code",
   "execution_count": 69,
   "id": "e793f144",
   "metadata": {},
   "outputs": [
    {
     "data": {
      "text/plain": [
       "array([[ 0., 12.,  3.]])"
      ]
     },
     "execution_count": 69,
     "metadata": {},
     "output_type": "execute_result"
    }
   ],
   "source": [
    "X[:, 0] = city_label.transform(X[:,0])\n",
    "X[:, 1] = role_label.transform(X[:,1])\n",
    "X = X.astype(float)\n",
    "X"
   ]
  },
  {
   "cell_type": "code",
   "execution_count": 70,
   "id": "8b8f6a43",
   "metadata": {
    "scrolled": true
   },
   "outputs": [
    {
     "data": {
      "text/plain": [
       "array([15413614.45783133, 15413614.45783133, 22261973.5748503 ,\n",
       "       22261973.5748503 , 15413614.45783133, 22261973.5748503 ,\n",
       "       22261973.5748503 , 22261973.5748503 , 22261973.5748503 ,\n",
       "        9683153.35      ,  9683153.35      ,  9683153.35      ,\n",
       "        9683153.35      ,  9683153.35      , 22261973.5748503 ,\n",
       "       22261973.5748503 ,  9683153.35      ,  9683153.35      ,\n",
       "       15413614.45783133,  9683153.35      ,  9683153.35      ,\n",
       "       22261973.5748503 , 22261973.5748503 ,  9683153.35      ,\n",
       "       22261973.5748503 ,  9683153.35      , 22261973.5748503 ,\n",
       "       15413614.45783133, 22261973.5748503 , 22261973.5748503 ,\n",
       "        9683153.35      ,  9683153.35      ,  9683153.35      ,\n",
       "       22261973.5748503 , 22261973.5748503 ,  9683153.35      ,\n",
       "        9683153.35      , 15413614.45783133, 22261973.5748503 ,\n",
       "        9683153.35      , 22261973.5748503 , 15413614.45783133,\n",
       "       22261973.5748503 ,  9683153.35      , 22261973.5748503 ,\n",
       "       22261973.5748503 , 15413614.45783133,  9683153.35      ,\n",
       "       22261973.5748503 , 22261973.5748503 , 15413614.45783133,\n",
       "        9683153.35      , 22261973.5748503 , 22261973.5748503 ,\n",
       "        9683153.35      ,  9683153.35      ,  9683153.35      ,\n",
       "        9683153.35      , 15413614.45783133, 22261973.5748503 ,\n",
       "       22261973.5748503 , 22261973.5748503 ,  9683153.35      ,\n",
       "        9683153.35      ,  9683153.35      ,  9683153.35      ,\n",
       "        9683153.35      , 22261973.5748503 , 22261973.5748503 ,\n",
       "        9683153.35      , 15413614.45783133, 22261973.5748503 ,\n",
       "        9683153.35      , 22261973.5748503 , 15413614.45783133,\n",
       "        9683153.35      , 22261973.5748503 ,  9683153.35      ,\n",
       "        9683153.35      ,  9683153.35      , 15413614.45783133,\n",
       "        9683153.35      ,  9683153.35      ,  9683153.35      ,\n",
       "        9683153.35      , 22261973.5748503 , 22261973.5748503 ,\n",
       "       30907615.38461538, 22261973.5748503 ,  9683153.35      ,\n",
       "        9683153.35      , 22261973.5748503 ,  9683153.35      ,\n",
       "        9683153.35      , 30907615.38461538,  9683153.35      ,\n",
       "        9683153.35      ,  9683153.35      , 22261973.5748503 ,\n",
       "       22261973.5748503 , 22261973.5748503 ,  9683153.35      ,\n",
       "        9683153.35      ,  9683153.35      ,  9683153.35      ,\n",
       "        9683153.35      , 15413614.45783133,  9683153.35      ,\n",
       "       22261973.5748503 ,  9683153.35      , 15413614.45783133,\n",
       "        9683153.35      ,  9683153.35      ,  9683153.35      ,\n",
       "        9683153.35      ,  9683153.35      ,  9683153.35      ,\n",
       "       22261973.5748503 , 22261973.5748503 ,  9683153.35      ,\n",
       "       22261973.5748503 ,  9683153.35      , 22261973.5748503 ,\n",
       "       22261973.5748503 ,  9683153.35      ,  9683153.35      ,\n",
       "       22261973.5748503 , 22261973.5748503 , 22261973.5748503 ,\n",
       "       22261973.5748503 ,  9683153.35      ])"
      ]
     },
     "execution_count": 70,
     "metadata": {},
     "output_type": "execute_result"
    }
   ],
   "source": [
    "y_pred = regressor.predict(X_test)\n",
    "y_pred"
   ]
  },
  {
   "cell_type": "code",
   "execution_count": 71,
   "id": "0cb8c56a",
   "metadata": {},
   "outputs": [],
   "source": [
    "data = {\"model\": regressor, \"city_label\": city_label, \"role_label\": role_label}\n",
    "with open('regresi-prediksi-gaji.pkl', 'wb') as file:\n",
    "    pickle.dump(data, file)"
   ]
  },
  {
   "cell_type": "code",
   "execution_count": 72,
   "id": "2a57741f",
   "metadata": {},
   "outputs": [],
   "source": [
    "with open('regresi-prediksi-gaji.pkl', 'rb') as file:\n",
    "    data = pickle.load(file)\n",
    "\n",
    "regressor_loaded = data[\"model\"]\n",
    "city_label = data[\"city_label\"]\n",
    "role_label = data[\"role_label\"]"
   ]
  },
  {
   "cell_type": "code",
   "execution_count": 73,
   "id": "d70b815c",
   "metadata": {},
   "outputs": [
    {
     "data": {
      "text/plain": [
       "array([15413614.45783133, 15413614.45783133, 22261973.5748503 ,\n",
       "       22261973.5748503 , 15413614.45783133, 22261973.5748503 ,\n",
       "       22261973.5748503 , 22261973.5748503 , 22261973.5748503 ,\n",
       "        9683153.35      ,  9683153.35      ,  9683153.35      ,\n",
       "        9683153.35      ,  9683153.35      , 22261973.5748503 ,\n",
       "       22261973.5748503 ,  9683153.35      ,  9683153.35      ,\n",
       "       15413614.45783133,  9683153.35      ,  9683153.35      ,\n",
       "       22261973.5748503 , 22261973.5748503 ,  9683153.35      ,\n",
       "       22261973.5748503 ,  9683153.35      , 22261973.5748503 ,\n",
       "       15413614.45783133, 22261973.5748503 , 22261973.5748503 ,\n",
       "        9683153.35      ,  9683153.35      ,  9683153.35      ,\n",
       "       22261973.5748503 , 22261973.5748503 ,  9683153.35      ,\n",
       "        9683153.35      , 15413614.45783133, 22261973.5748503 ,\n",
       "        9683153.35      , 22261973.5748503 , 15413614.45783133,\n",
       "       22261973.5748503 ,  9683153.35      , 22261973.5748503 ,\n",
       "       22261973.5748503 , 15413614.45783133,  9683153.35      ,\n",
       "       22261973.5748503 , 22261973.5748503 , 15413614.45783133,\n",
       "        9683153.35      , 22261973.5748503 , 22261973.5748503 ,\n",
       "        9683153.35      ,  9683153.35      ,  9683153.35      ,\n",
       "        9683153.35      , 15413614.45783133, 22261973.5748503 ,\n",
       "       22261973.5748503 , 22261973.5748503 ,  9683153.35      ,\n",
       "        9683153.35      ,  9683153.35      ,  9683153.35      ,\n",
       "        9683153.35      , 22261973.5748503 , 22261973.5748503 ,\n",
       "        9683153.35      , 15413614.45783133, 22261973.5748503 ,\n",
       "        9683153.35      , 22261973.5748503 , 15413614.45783133,\n",
       "        9683153.35      , 22261973.5748503 ,  9683153.35      ,\n",
       "        9683153.35      ,  9683153.35      , 15413614.45783133,\n",
       "        9683153.35      ,  9683153.35      ,  9683153.35      ,\n",
       "        9683153.35      , 22261973.5748503 , 22261973.5748503 ,\n",
       "       30907615.38461538, 22261973.5748503 ,  9683153.35      ,\n",
       "        9683153.35      , 22261973.5748503 ,  9683153.35      ,\n",
       "        9683153.35      , 30907615.38461538,  9683153.35      ,\n",
       "        9683153.35      ,  9683153.35      , 22261973.5748503 ,\n",
       "       22261973.5748503 , 22261973.5748503 ,  9683153.35      ,\n",
       "        9683153.35      ,  9683153.35      ,  9683153.35      ,\n",
       "        9683153.35      , 15413614.45783133,  9683153.35      ,\n",
       "       22261973.5748503 ,  9683153.35      , 15413614.45783133,\n",
       "        9683153.35      ,  9683153.35      ,  9683153.35      ,\n",
       "        9683153.35      ,  9683153.35      ,  9683153.35      ,\n",
       "       22261973.5748503 , 22261973.5748503 ,  9683153.35      ,\n",
       "       22261973.5748503 ,  9683153.35      , 22261973.5748503 ,\n",
       "       22261973.5748503 ,  9683153.35      ,  9683153.35      ,\n",
       "       22261973.5748503 , 22261973.5748503 , 22261973.5748503 ,\n",
       "       22261973.5748503 ,  9683153.35      ])"
      ]
     },
     "execution_count": 73,
     "metadata": {},
     "output_type": "execute_result"
    }
   ],
   "source": [
    "y_pred = regressor_loaded.predict(X_test)\n",
    "y_pred"
   ]
  },
  {
   "cell_type": "code",
   "execution_count": null,
   "id": "e93c92bf",
   "metadata": {},
   "outputs": [],
   "source": []
  },
  {
   "cell_type": "code",
   "execution_count": null,
   "id": "70886a7c",
   "metadata": {},
   "outputs": [],
   "source": []
  }
 ],
 "metadata": {
  "kernelspec": {
   "display_name": "Python 3 (ipykernel)",
   "language": "python",
   "name": "python3"
  },
  "language_info": {
   "codemirror_mode": {
    "name": "ipython",
    "version": 3
   },
   "file_extension": ".py",
   "mimetype": "text/x-python",
   "name": "python",
   "nbconvert_exporter": "python",
   "pygments_lexer": "ipython3",
   "version": "3.10.6"
  }
 },
 "nbformat": 4,
 "nbformat_minor": 5
}
